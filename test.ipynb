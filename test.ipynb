{
 "cells": [
  {
   "cell_type": "markdown",
   "metadata": {},
   "source": [
    "### Gemma"
   ]
  },
  {
   "cell_type": "code",
   "execution_count": 1,
   "metadata": {},
   "outputs": [
    {
     "name": "stderr",
     "output_type": "stream",
     "text": [
      "/home/zzzzz/miniconda3/envs/vsr_llm/lib/python3.10/site-packages/tqdm/auto.py:21: TqdmWarning: IProgress not found. Please update jupyter and ipywidgets. See https://ipywidgets.readthedocs.io/en/stable/user_install.html\n",
      "  from .autonotebook import tqdm as notebook_tqdm\n"
     ]
    }
   ],
   "source": [
    "from transformers import GemmaForCausalLM,GemmaTokenizer,BitsAndBytesConfig\n",
    "import torch\n",
    "from peft import LoraConfig,get_peft_model,prepare_model_for_kbit_training"
   ]
  },
  {
   "cell_type": "code",
   "execution_count": 2,
   "metadata": {},
   "outputs": [
    {
     "name": "stderr",
     "output_type": "stream",
     "text": [
      "`low_cpu_mem_usage` was None, now set to True since model is quantized.\n",
      "Loading checkpoint shards: 100%|██████████| 2/2 [00:03<00:00,  1.58s/it]\n"
     ]
    }
   ],
   "source": [
    "bnb_config = BitsAndBytesConfig(\n",
    "    load_in_4bit=True,\n",
    "    bnb_4bit_use_double_quant=True,\n",
    "    bnb_4bit_quant_type=\"nf4\",\n",
    "    bnb_4bit_compute_dtype=torch.float32,\n",
    ")\n",
    "tokenizer = GemmaTokenizer.from_pretrained(\"google/gemma-1.1-2b-it\")\n",
    "model = GemmaForCausalLM.from_pretrained(\"google/gemma-1.1-2b-it\",quantization_config=bnb_config)\n",
    "model.gradient_checkpointing_enable()\n",
    "model=prepare_model_for_kbit_training(model)"
   ]
  },
  {
   "cell_type": "code",
   "execution_count": 5,
   "metadata": {},
   "outputs": [
    {
     "name": "stdout",
     "output_type": "stream",
     "text": [
      "tensor([[     2,   6870, 157593]], device='cuda:0')\n"
     ]
    }
   ],
   "source": [
    "prompt = \"Il gatto\"\n",
    "input_ids = tokenizer.encode(prompt, return_tensors=\"pt\")\n",
    "input_ids = input_ids.to(model.device)\n",
    "print(input_ids)\n",
    "output = model(input_ids, return_dict=True)"
   ]
  },
  {
   "cell_type": "code",
   "execution_count": 6,
   "metadata": {},
   "outputs": [
    {
     "name": "stdout",
     "output_type": "stream",
     "text": [
      "torch.Size([1, 3, 256000])\n"
     ]
    }
   ],
   "source": [
    "print(output.logits.shape)"
   ]
  },
  {
   "cell_type": "code",
   "execution_count": null,
   "metadata": {},
   "outputs": [],
   "source": [
    "special_tokens_dict = [\"<STT>\"]\n",
    "num_added_toks = tokenizer.add_tokens(special_tokens_dict,special_tokens=True)\n",
    "print(\"We have added\", num_added_toks, \"tokens\")\n",
    "model.resize_token_embeddings(len(tokenizer))"
   ]
  },
  {
   "cell_type": "code",
   "execution_count": null,
   "metadata": {},
   "outputs": [],
   "source": [
    "tokenizer.special_tokens_map"
   ]
  },
  {
   "cell_type": "code",
   "execution_count": null,
   "metadata": {},
   "outputs": [
    {
     "ename": "",
     "evalue": "",
     "output_type": "error",
     "traceback": [
      "\u001b[1;31m在当前单元格或上一个单元格中执行代码时 Kernel 崩溃。\n",
      "\u001b[1;31m请查看单元格中的代码，以确定故障的可能原因。\n",
      "\u001b[1;31m单击<a href='https://aka.ms/vscodeJupyterKernelCrash'>此处</a>了解详细信息。\n",
      "\u001b[1;31m有关更多详细信息，请查看 Jupyter <a href='command:jupyter.viewOutput'>log</a>。"
     ]
    }
   ],
   "source": [
    "prompt = \"I know <STT> is a good person.\"\n",
    "input_ids = tokenizer.encode(prompt, return_tensors=\"pt\",skip_special_tokens=True)\n",
    "print(tokenizer.decode(input_ids[0],skip_special_tokens=True))"
   ]
  },
  {
   "cell_type": "code",
   "execution_count": null,
   "metadata": {},
   "outputs": [],
   "source": [
    "prompt = [\"I like deep learning\", \"I like to play with my dog\", \"I like to play with my cat\", \"I like to play with my\"]\n",
    "tokenizer.padding_side = \"left\"\n",
    "tokens = tokenizer(prompt, return_tensors=\"pt\", padding=True, truncation=True)\n",
    "mask=tokens.attention_mask"
   ]
  },
  {
   "cell_type": "code",
   "execution_count": null,
   "metadata": {},
   "outputs": [],
   "source": [
    "print(mask)\n",
    "mask.sum(-1)"
   ]
  },
  {
   "cell_type": "code",
   "execution_count": null,
   "metadata": {},
   "outputs": [],
   "source": [
    "input = tokenizer(\"You can generate the output not include the input?\",add_special_tokens=True,return_tensors='pt')"
   ]
  },
  {
   "cell_type": "code",
   "execution_count": null,
   "metadata": {},
   "outputs": [],
   "source": [
    "tokenizer.batch_decode(input[\"input_ids\"],skip_special_tokens=False)"
   ]
  },
  {
   "cell_type": "code",
   "execution_count": null,
   "metadata": {},
   "outputs": [],
   "source": [
    "fwd = model(**input,return_dict=True)"
   ]
  },
  {
   "cell_type": "code",
   "execution_count": null,
   "metadata": {},
   "outputs": [],
   "source": [
    "fwd.logits\n",
    "torch.argmax(torch.softmax(fwd.logits,dim=-1),dim=-1)"
   ]
  },
  {
   "cell_type": "code",
   "execution_count": null,
   "metadata": {},
   "outputs": [],
   "source": [
    "tokenizer.batch_decode(torch.argmax(torch.softmax(fwd.logits,dim=-1),dim=-1),skip_special_tokens=False)"
   ]
  },
  {
   "cell_type": "code",
   "execution_count": null,
   "metadata": {},
   "outputs": [],
   "source": [
    "gt = model.generate(input[\"input_ids\"],do_sample=True,max_length=100,num_return_sequences=1,top_k=50,top_p=0.95,temperature=0.9)"
   ]
  },
  {
   "cell_type": "code",
   "execution_count": null,
   "metadata": {},
   "outputs": [],
   "source": [
    "tokenizer.decode(gt[0],skip_special_tokens=False)"
   ]
  },
  {
   "cell_type": "code",
   "execution_count": 2,
   "metadata": {},
   "outputs": [
    {
     "data": {
      "text/plain": [
       "tensor([[4, 5, 6],\n",
       "        [1, 2, 0]])"
      ]
     },
     "execution_count": 2,
     "metadata": {},
     "output_type": "execute_result"
    }
   ],
   "source": [
    "import torch\n",
    "from torch.nn.utils.rnn import pad_sequence\n",
    "a = torch.tensor([4,5,6])\n",
    "b = torch.tensor([1,2])\n",
    "pad_sequence([a,b],batch_first=True,padding_value=0)"
   ]
  },
  {
   "cell_type": "code",
   "execution_count": 6,
   "metadata": {},
   "outputs": [
    {
     "name": "stdout",
     "output_type": "stream",
     "text": [
      "torch.Size([2, 3])\n"
     ]
    }
   ],
   "source": [
    "a = torch.tensor([[4,5,6],[1,2,0]])\n",
    "print(a.shape)"
   ]
  },
  {
   "cell_type": "code",
   "execution_count": 1,
   "metadata": {},
   "outputs": [],
   "source": [
    "from tensorboardX import SummaryWriter"
   ]
  },
  {
   "cell_type": "code",
   "execution_count": 2,
   "metadata": {},
   "outputs": [],
   "source": [
    "writer = SummaryWriter(\"logs\")\n",
    "writer.add_scalar(\"test\",0.5)\n",
    "writer.add_scalar(\"test\",0.6)\n",
    "writer.close()"
   ]
  },
  {
   "cell_type": "code",
   "execution_count": 4,
   "metadata": {},
   "outputs": [
    {
     "name": "stdout",
     "output_type": "stream",
     "text": [
      "TensorFlow installation not found - running with reduced feature set.\n",
      "\n",
      "NOTE: Using experimental fast data loading logic. To disable, pass\n",
      "    \"--load_fast=false\" and report issues on GitHub. More details:\n",
      "    https://github.com/tensorflow/tensorboard/issues/4784\n",
      "\n",
      "Serving TensorBoard on localhost; to expose to the network, use a proxy or pass --bind_all\n",
      "TensorBoard 2.17.0 at http://localhost:6007/ (Press CTRL+C to quit)\n",
      "^C\n"
     ]
    }
   ],
   "source": [
    "!tensorboard --logdir logs --port 6007"
   ]
  },
  {
   "cell_type": "markdown",
   "metadata": {},
   "source": [
    "### OPT"
   ]
  },
  {
   "cell_type": "code",
   "execution_count": 14,
   "metadata": {},
   "outputs": [
    {
     "name": "stdout",
     "output_type": "stream",
     "text": [
      "Embedding(50272, 512, padding_idx=1)\n"
     ]
    },
    {
     "name": "stderr",
     "output_type": "stream",
     "text": [
      "/home/zzzzz/miniconda3/envs/vsr_llm_avsr/lib/python3.10/site-packages/transformers/tokenization_utils_base.py:1601: FutureWarning: `clean_up_tokenization_spaces` was not set. It will be set to `True` by default. This behavior will be depracted in transformers v4.45, and will be then set to `False` by default. For more details check this issue: https://github.com/huggingface/transformers/issues/31884\n",
      "  warnings.warn(\n"
     ]
    }
   ],
   "source": [
    "import os\n",
    "import torch\n",
    "os.environ[\"HF_HOME\"] = \"/home/zzzzz/.cache/huggingface/hub\"\n",
    "from transformers import OPTForCausalLM, GPT2Tokenizer\n",
    "model = OPTForCausalLM.from_pretrained(\"facebook/opt-350m\", cache_dir=\"/home/zzzzz/.cache/huggingface/hub/models--facebook--opt-350m\")\n",
    "tokenizer = GPT2Tokenizer.from_pretrained(\"facebook/opt-350m\",cache_dir=\"/home/zzzzz/.cache/huggingface/hub/models--facebook--opt-350m\")\n",
    "embedding = model.get_input_embeddings()"
   ]
  },
  {
   "cell_type": "code",
   "execution_count": 15,
   "metadata": {},
   "outputs": [
    {
     "name": "stdout",
     "output_type": "stream",
     "text": [
      "model.decoder.embed_tokens.weight torch.Size([50272, 512])\n",
      "model.decoder.embed_positions.weight torch.Size([2050, 1024])\n",
      "model.decoder.project_out.weight torch.Size([512, 1024])\n",
      "model.decoder.project_in.weight torch.Size([1024, 512])\n",
      "model.decoder.layers.0.self_attn.k_proj.weight torch.Size([1024, 1024])\n",
      "model.decoder.layers.0.self_attn.k_proj.bias torch.Size([1024])\n",
      "model.decoder.layers.0.self_attn.v_proj.weight torch.Size([1024, 1024])\n",
      "model.decoder.layers.0.self_attn.v_proj.bias torch.Size([1024])\n",
      "model.decoder.layers.0.self_attn.q_proj.weight torch.Size([1024, 1024])\n",
      "model.decoder.layers.0.self_attn.q_proj.bias torch.Size([1024])\n",
      "model.decoder.layers.0.self_attn.out_proj.weight torch.Size([1024, 1024])\n",
      "model.decoder.layers.0.self_attn.out_proj.bias torch.Size([1024])\n",
      "model.decoder.layers.0.self_attn_layer_norm.weight torch.Size([1024])\n",
      "model.decoder.layers.0.self_attn_layer_norm.bias torch.Size([1024])\n",
      "model.decoder.layers.0.fc1.weight torch.Size([4096, 1024])\n",
      "model.decoder.layers.0.fc1.bias torch.Size([4096])\n",
      "model.decoder.layers.0.fc2.weight torch.Size([1024, 4096])\n",
      "model.decoder.layers.0.fc2.bias torch.Size([1024])\n",
      "model.decoder.layers.0.final_layer_norm.weight torch.Size([1024])\n",
      "model.decoder.layers.0.final_layer_norm.bias torch.Size([1024])\n",
      "model.decoder.layers.1.self_attn.k_proj.weight torch.Size([1024, 1024])\n",
      "model.decoder.layers.1.self_attn.k_proj.bias torch.Size([1024])\n",
      "model.decoder.layers.1.self_attn.v_proj.weight torch.Size([1024, 1024])\n",
      "model.decoder.layers.1.self_attn.v_proj.bias torch.Size([1024])\n",
      "model.decoder.layers.1.self_attn.q_proj.weight torch.Size([1024, 1024])\n",
      "model.decoder.layers.1.self_attn.q_proj.bias torch.Size([1024])\n",
      "model.decoder.layers.1.self_attn.out_proj.weight torch.Size([1024, 1024])\n",
      "model.decoder.layers.1.self_attn.out_proj.bias torch.Size([1024])\n",
      "model.decoder.layers.1.self_attn_layer_norm.weight torch.Size([1024])\n",
      "model.decoder.layers.1.self_attn_layer_norm.bias torch.Size([1024])\n",
      "model.decoder.layers.1.fc1.weight torch.Size([4096, 1024])\n",
      "model.decoder.layers.1.fc1.bias torch.Size([4096])\n",
      "model.decoder.layers.1.fc2.weight torch.Size([1024, 4096])\n",
      "model.decoder.layers.1.fc2.bias torch.Size([1024])\n",
      "model.decoder.layers.1.final_layer_norm.weight torch.Size([1024])\n",
      "model.decoder.layers.1.final_layer_norm.bias torch.Size([1024])\n",
      "model.decoder.layers.2.self_attn.k_proj.weight torch.Size([1024, 1024])\n",
      "model.decoder.layers.2.self_attn.k_proj.bias torch.Size([1024])\n",
      "model.decoder.layers.2.self_attn.v_proj.weight torch.Size([1024, 1024])\n",
      "model.decoder.layers.2.self_attn.v_proj.bias torch.Size([1024])\n",
      "model.decoder.layers.2.self_attn.q_proj.weight torch.Size([1024, 1024])\n",
      "model.decoder.layers.2.self_attn.q_proj.bias torch.Size([1024])\n",
      "model.decoder.layers.2.self_attn.out_proj.weight torch.Size([1024, 1024])\n",
      "model.decoder.layers.2.self_attn.out_proj.bias torch.Size([1024])\n",
      "model.decoder.layers.2.self_attn_layer_norm.weight torch.Size([1024])\n",
      "model.decoder.layers.2.self_attn_layer_norm.bias torch.Size([1024])\n",
      "model.decoder.layers.2.fc1.weight torch.Size([4096, 1024])\n",
      "model.decoder.layers.2.fc1.bias torch.Size([4096])\n",
      "model.decoder.layers.2.fc2.weight torch.Size([1024, 4096])\n",
      "model.decoder.layers.2.fc2.bias torch.Size([1024])\n",
      "model.decoder.layers.2.final_layer_norm.weight torch.Size([1024])\n",
      "model.decoder.layers.2.final_layer_norm.bias torch.Size([1024])\n",
      "model.decoder.layers.3.self_attn.k_proj.weight torch.Size([1024, 1024])\n",
      "model.decoder.layers.3.self_attn.k_proj.bias torch.Size([1024])\n",
      "model.decoder.layers.3.self_attn.v_proj.weight torch.Size([1024, 1024])\n",
      "model.decoder.layers.3.self_attn.v_proj.bias torch.Size([1024])\n",
      "model.decoder.layers.3.self_attn.q_proj.weight torch.Size([1024, 1024])\n",
      "model.decoder.layers.3.self_attn.q_proj.bias torch.Size([1024])\n",
      "model.decoder.layers.3.self_attn.out_proj.weight torch.Size([1024, 1024])\n",
      "model.decoder.layers.3.self_attn.out_proj.bias torch.Size([1024])\n",
      "model.decoder.layers.3.self_attn_layer_norm.weight torch.Size([1024])\n",
      "model.decoder.layers.3.self_attn_layer_norm.bias torch.Size([1024])\n",
      "model.decoder.layers.3.fc1.weight torch.Size([4096, 1024])\n",
      "model.decoder.layers.3.fc1.bias torch.Size([4096])\n",
      "model.decoder.layers.3.fc2.weight torch.Size([1024, 4096])\n",
      "model.decoder.layers.3.fc2.bias torch.Size([1024])\n",
      "model.decoder.layers.3.final_layer_norm.weight torch.Size([1024])\n",
      "model.decoder.layers.3.final_layer_norm.bias torch.Size([1024])\n",
      "model.decoder.layers.4.self_attn.k_proj.weight torch.Size([1024, 1024])\n",
      "model.decoder.layers.4.self_attn.k_proj.bias torch.Size([1024])\n",
      "model.decoder.layers.4.self_attn.v_proj.weight torch.Size([1024, 1024])\n",
      "model.decoder.layers.4.self_attn.v_proj.bias torch.Size([1024])\n",
      "model.decoder.layers.4.self_attn.q_proj.weight torch.Size([1024, 1024])\n",
      "model.decoder.layers.4.self_attn.q_proj.bias torch.Size([1024])\n",
      "model.decoder.layers.4.self_attn.out_proj.weight torch.Size([1024, 1024])\n",
      "model.decoder.layers.4.self_attn.out_proj.bias torch.Size([1024])\n",
      "model.decoder.layers.4.self_attn_layer_norm.weight torch.Size([1024])\n",
      "model.decoder.layers.4.self_attn_layer_norm.bias torch.Size([1024])\n",
      "model.decoder.layers.4.fc1.weight torch.Size([4096, 1024])\n",
      "model.decoder.layers.4.fc1.bias torch.Size([4096])\n",
      "model.decoder.layers.4.fc2.weight torch.Size([1024, 4096])\n",
      "model.decoder.layers.4.fc2.bias torch.Size([1024])\n",
      "model.decoder.layers.4.final_layer_norm.weight torch.Size([1024])\n",
      "model.decoder.layers.4.final_layer_norm.bias torch.Size([1024])\n",
      "model.decoder.layers.5.self_attn.k_proj.weight torch.Size([1024, 1024])\n",
      "model.decoder.layers.5.self_attn.k_proj.bias torch.Size([1024])\n",
      "model.decoder.layers.5.self_attn.v_proj.weight torch.Size([1024, 1024])\n",
      "model.decoder.layers.5.self_attn.v_proj.bias torch.Size([1024])\n",
      "model.decoder.layers.5.self_attn.q_proj.weight torch.Size([1024, 1024])\n",
      "model.decoder.layers.5.self_attn.q_proj.bias torch.Size([1024])\n",
      "model.decoder.layers.5.self_attn.out_proj.weight torch.Size([1024, 1024])\n",
      "model.decoder.layers.5.self_attn.out_proj.bias torch.Size([1024])\n",
      "model.decoder.layers.5.self_attn_layer_norm.weight torch.Size([1024])\n",
      "model.decoder.layers.5.self_attn_layer_norm.bias torch.Size([1024])\n",
      "model.decoder.layers.5.fc1.weight torch.Size([4096, 1024])\n",
      "model.decoder.layers.5.fc1.bias torch.Size([4096])\n",
      "model.decoder.layers.5.fc2.weight torch.Size([1024, 4096])\n",
      "model.decoder.layers.5.fc2.bias torch.Size([1024])\n",
      "model.decoder.layers.5.final_layer_norm.weight torch.Size([1024])\n",
      "model.decoder.layers.5.final_layer_norm.bias torch.Size([1024])\n",
      "model.decoder.layers.6.self_attn.k_proj.weight torch.Size([1024, 1024])\n",
      "model.decoder.layers.6.self_attn.k_proj.bias torch.Size([1024])\n",
      "model.decoder.layers.6.self_attn.v_proj.weight torch.Size([1024, 1024])\n",
      "model.decoder.layers.6.self_attn.v_proj.bias torch.Size([1024])\n",
      "model.decoder.layers.6.self_attn.q_proj.weight torch.Size([1024, 1024])\n",
      "model.decoder.layers.6.self_attn.q_proj.bias torch.Size([1024])\n",
      "model.decoder.layers.6.self_attn.out_proj.weight torch.Size([1024, 1024])\n",
      "model.decoder.layers.6.self_attn.out_proj.bias torch.Size([1024])\n",
      "model.decoder.layers.6.self_attn_layer_norm.weight torch.Size([1024])\n",
      "model.decoder.layers.6.self_attn_layer_norm.bias torch.Size([1024])\n",
      "model.decoder.layers.6.fc1.weight torch.Size([4096, 1024])\n",
      "model.decoder.layers.6.fc1.bias torch.Size([4096])\n",
      "model.decoder.layers.6.fc2.weight torch.Size([1024, 4096])\n",
      "model.decoder.layers.6.fc2.bias torch.Size([1024])\n",
      "model.decoder.layers.6.final_layer_norm.weight torch.Size([1024])\n",
      "model.decoder.layers.6.final_layer_norm.bias torch.Size([1024])\n",
      "model.decoder.layers.7.self_attn.k_proj.weight torch.Size([1024, 1024])\n",
      "model.decoder.layers.7.self_attn.k_proj.bias torch.Size([1024])\n",
      "model.decoder.layers.7.self_attn.v_proj.weight torch.Size([1024, 1024])\n",
      "model.decoder.layers.7.self_attn.v_proj.bias torch.Size([1024])\n",
      "model.decoder.layers.7.self_attn.q_proj.weight torch.Size([1024, 1024])\n",
      "model.decoder.layers.7.self_attn.q_proj.bias torch.Size([1024])\n",
      "model.decoder.layers.7.self_attn.out_proj.weight torch.Size([1024, 1024])\n",
      "model.decoder.layers.7.self_attn.out_proj.bias torch.Size([1024])\n",
      "model.decoder.layers.7.self_attn_layer_norm.weight torch.Size([1024])\n",
      "model.decoder.layers.7.self_attn_layer_norm.bias torch.Size([1024])\n",
      "model.decoder.layers.7.fc1.weight torch.Size([4096, 1024])\n",
      "model.decoder.layers.7.fc1.bias torch.Size([4096])\n",
      "model.decoder.layers.7.fc2.weight torch.Size([1024, 4096])\n",
      "model.decoder.layers.7.fc2.bias torch.Size([1024])\n",
      "model.decoder.layers.7.final_layer_norm.weight torch.Size([1024])\n",
      "model.decoder.layers.7.final_layer_norm.bias torch.Size([1024])\n",
      "model.decoder.layers.8.self_attn.k_proj.weight torch.Size([1024, 1024])\n",
      "model.decoder.layers.8.self_attn.k_proj.bias torch.Size([1024])\n",
      "model.decoder.layers.8.self_attn.v_proj.weight torch.Size([1024, 1024])\n",
      "model.decoder.layers.8.self_attn.v_proj.bias torch.Size([1024])\n",
      "model.decoder.layers.8.self_attn.q_proj.weight torch.Size([1024, 1024])\n",
      "model.decoder.layers.8.self_attn.q_proj.bias torch.Size([1024])\n",
      "model.decoder.layers.8.self_attn.out_proj.weight torch.Size([1024, 1024])\n",
      "model.decoder.layers.8.self_attn.out_proj.bias torch.Size([1024])\n",
      "model.decoder.layers.8.self_attn_layer_norm.weight torch.Size([1024])\n",
      "model.decoder.layers.8.self_attn_layer_norm.bias torch.Size([1024])\n",
      "model.decoder.layers.8.fc1.weight torch.Size([4096, 1024])\n",
      "model.decoder.layers.8.fc1.bias torch.Size([4096])\n",
      "model.decoder.layers.8.fc2.weight torch.Size([1024, 4096])\n",
      "model.decoder.layers.8.fc2.bias torch.Size([1024])\n",
      "model.decoder.layers.8.final_layer_norm.weight torch.Size([1024])\n",
      "model.decoder.layers.8.final_layer_norm.bias torch.Size([1024])\n",
      "model.decoder.layers.9.self_attn.k_proj.weight torch.Size([1024, 1024])\n",
      "model.decoder.layers.9.self_attn.k_proj.bias torch.Size([1024])\n",
      "model.decoder.layers.9.self_attn.v_proj.weight torch.Size([1024, 1024])\n",
      "model.decoder.layers.9.self_attn.v_proj.bias torch.Size([1024])\n",
      "model.decoder.layers.9.self_attn.q_proj.weight torch.Size([1024, 1024])\n",
      "model.decoder.layers.9.self_attn.q_proj.bias torch.Size([1024])\n",
      "model.decoder.layers.9.self_attn.out_proj.weight torch.Size([1024, 1024])\n",
      "model.decoder.layers.9.self_attn.out_proj.bias torch.Size([1024])\n",
      "model.decoder.layers.9.self_attn_layer_norm.weight torch.Size([1024])\n",
      "model.decoder.layers.9.self_attn_layer_norm.bias torch.Size([1024])\n",
      "model.decoder.layers.9.fc1.weight torch.Size([4096, 1024])\n",
      "model.decoder.layers.9.fc1.bias torch.Size([4096])\n",
      "model.decoder.layers.9.fc2.weight torch.Size([1024, 4096])\n",
      "model.decoder.layers.9.fc2.bias torch.Size([1024])\n",
      "model.decoder.layers.9.final_layer_norm.weight torch.Size([1024])\n",
      "model.decoder.layers.9.final_layer_norm.bias torch.Size([1024])\n",
      "model.decoder.layers.10.self_attn.k_proj.weight torch.Size([1024, 1024])\n",
      "model.decoder.layers.10.self_attn.k_proj.bias torch.Size([1024])\n",
      "model.decoder.layers.10.self_attn.v_proj.weight torch.Size([1024, 1024])\n",
      "model.decoder.layers.10.self_attn.v_proj.bias torch.Size([1024])\n",
      "model.decoder.layers.10.self_attn.q_proj.weight torch.Size([1024, 1024])\n",
      "model.decoder.layers.10.self_attn.q_proj.bias torch.Size([1024])\n",
      "model.decoder.layers.10.self_attn.out_proj.weight torch.Size([1024, 1024])\n",
      "model.decoder.layers.10.self_attn.out_proj.bias torch.Size([1024])\n",
      "model.decoder.layers.10.self_attn_layer_norm.weight torch.Size([1024])\n",
      "model.decoder.layers.10.self_attn_layer_norm.bias torch.Size([1024])\n",
      "model.decoder.layers.10.fc1.weight torch.Size([4096, 1024])\n",
      "model.decoder.layers.10.fc1.bias torch.Size([4096])\n",
      "model.decoder.layers.10.fc2.weight torch.Size([1024, 4096])\n",
      "model.decoder.layers.10.fc2.bias torch.Size([1024])\n",
      "model.decoder.layers.10.final_layer_norm.weight torch.Size([1024])\n",
      "model.decoder.layers.10.final_layer_norm.bias torch.Size([1024])\n",
      "model.decoder.layers.11.self_attn.k_proj.weight torch.Size([1024, 1024])\n",
      "model.decoder.layers.11.self_attn.k_proj.bias torch.Size([1024])\n",
      "model.decoder.layers.11.self_attn.v_proj.weight torch.Size([1024, 1024])\n",
      "model.decoder.layers.11.self_attn.v_proj.bias torch.Size([1024])\n",
      "model.decoder.layers.11.self_attn.q_proj.weight torch.Size([1024, 1024])\n",
      "model.decoder.layers.11.self_attn.q_proj.bias torch.Size([1024])\n",
      "model.decoder.layers.11.self_attn.out_proj.weight torch.Size([1024, 1024])\n",
      "model.decoder.layers.11.self_attn.out_proj.bias torch.Size([1024])\n",
      "model.decoder.layers.11.self_attn_layer_norm.weight torch.Size([1024])\n",
      "model.decoder.layers.11.self_attn_layer_norm.bias torch.Size([1024])\n",
      "model.decoder.layers.11.fc1.weight torch.Size([4096, 1024])\n",
      "model.decoder.layers.11.fc1.bias torch.Size([4096])\n",
      "model.decoder.layers.11.fc2.weight torch.Size([1024, 4096])\n",
      "model.decoder.layers.11.fc2.bias torch.Size([1024])\n",
      "model.decoder.layers.11.final_layer_norm.weight torch.Size([1024])\n",
      "model.decoder.layers.11.final_layer_norm.bias torch.Size([1024])\n",
      "model.decoder.layers.12.self_attn.k_proj.weight torch.Size([1024, 1024])\n",
      "model.decoder.layers.12.self_attn.k_proj.bias torch.Size([1024])\n",
      "model.decoder.layers.12.self_attn.v_proj.weight torch.Size([1024, 1024])\n",
      "model.decoder.layers.12.self_attn.v_proj.bias torch.Size([1024])\n",
      "model.decoder.layers.12.self_attn.q_proj.weight torch.Size([1024, 1024])\n",
      "model.decoder.layers.12.self_attn.q_proj.bias torch.Size([1024])\n",
      "model.decoder.layers.12.self_attn.out_proj.weight torch.Size([1024, 1024])\n",
      "model.decoder.layers.12.self_attn.out_proj.bias torch.Size([1024])\n",
      "model.decoder.layers.12.self_attn_layer_norm.weight torch.Size([1024])\n",
      "model.decoder.layers.12.self_attn_layer_norm.bias torch.Size([1024])\n",
      "model.decoder.layers.12.fc1.weight torch.Size([4096, 1024])\n",
      "model.decoder.layers.12.fc1.bias torch.Size([4096])\n",
      "model.decoder.layers.12.fc2.weight torch.Size([1024, 4096])\n",
      "model.decoder.layers.12.fc2.bias torch.Size([1024])\n",
      "model.decoder.layers.12.final_layer_norm.weight torch.Size([1024])\n",
      "model.decoder.layers.12.final_layer_norm.bias torch.Size([1024])\n",
      "model.decoder.layers.13.self_attn.k_proj.weight torch.Size([1024, 1024])\n",
      "model.decoder.layers.13.self_attn.k_proj.bias torch.Size([1024])\n",
      "model.decoder.layers.13.self_attn.v_proj.weight torch.Size([1024, 1024])\n",
      "model.decoder.layers.13.self_attn.v_proj.bias torch.Size([1024])\n",
      "model.decoder.layers.13.self_attn.q_proj.weight torch.Size([1024, 1024])\n",
      "model.decoder.layers.13.self_attn.q_proj.bias torch.Size([1024])\n",
      "model.decoder.layers.13.self_attn.out_proj.weight torch.Size([1024, 1024])\n",
      "model.decoder.layers.13.self_attn.out_proj.bias torch.Size([1024])\n",
      "model.decoder.layers.13.self_attn_layer_norm.weight torch.Size([1024])\n",
      "model.decoder.layers.13.self_attn_layer_norm.bias torch.Size([1024])\n",
      "model.decoder.layers.13.fc1.weight torch.Size([4096, 1024])\n",
      "model.decoder.layers.13.fc1.bias torch.Size([4096])\n",
      "model.decoder.layers.13.fc2.weight torch.Size([1024, 4096])\n",
      "model.decoder.layers.13.fc2.bias torch.Size([1024])\n",
      "model.decoder.layers.13.final_layer_norm.weight torch.Size([1024])\n",
      "model.decoder.layers.13.final_layer_norm.bias torch.Size([1024])\n",
      "model.decoder.layers.14.self_attn.k_proj.weight torch.Size([1024, 1024])\n",
      "model.decoder.layers.14.self_attn.k_proj.bias torch.Size([1024])\n",
      "model.decoder.layers.14.self_attn.v_proj.weight torch.Size([1024, 1024])\n",
      "model.decoder.layers.14.self_attn.v_proj.bias torch.Size([1024])\n",
      "model.decoder.layers.14.self_attn.q_proj.weight torch.Size([1024, 1024])\n",
      "model.decoder.layers.14.self_attn.q_proj.bias torch.Size([1024])\n",
      "model.decoder.layers.14.self_attn.out_proj.weight torch.Size([1024, 1024])\n",
      "model.decoder.layers.14.self_attn.out_proj.bias torch.Size([1024])\n",
      "model.decoder.layers.14.self_attn_layer_norm.weight torch.Size([1024])\n",
      "model.decoder.layers.14.self_attn_layer_norm.bias torch.Size([1024])\n",
      "model.decoder.layers.14.fc1.weight torch.Size([4096, 1024])\n",
      "model.decoder.layers.14.fc1.bias torch.Size([4096])\n",
      "model.decoder.layers.14.fc2.weight torch.Size([1024, 4096])\n",
      "model.decoder.layers.14.fc2.bias torch.Size([1024])\n",
      "model.decoder.layers.14.final_layer_norm.weight torch.Size([1024])\n",
      "model.decoder.layers.14.final_layer_norm.bias torch.Size([1024])\n",
      "model.decoder.layers.15.self_attn.k_proj.weight torch.Size([1024, 1024])\n",
      "model.decoder.layers.15.self_attn.k_proj.bias torch.Size([1024])\n",
      "model.decoder.layers.15.self_attn.v_proj.weight torch.Size([1024, 1024])\n",
      "model.decoder.layers.15.self_attn.v_proj.bias torch.Size([1024])\n",
      "model.decoder.layers.15.self_attn.q_proj.weight torch.Size([1024, 1024])\n",
      "model.decoder.layers.15.self_attn.q_proj.bias torch.Size([1024])\n",
      "model.decoder.layers.15.self_attn.out_proj.weight torch.Size([1024, 1024])\n",
      "model.decoder.layers.15.self_attn.out_proj.bias torch.Size([1024])\n",
      "model.decoder.layers.15.self_attn_layer_norm.weight torch.Size([1024])\n",
      "model.decoder.layers.15.self_attn_layer_norm.bias torch.Size([1024])\n",
      "model.decoder.layers.15.fc1.weight torch.Size([4096, 1024])\n",
      "model.decoder.layers.15.fc1.bias torch.Size([4096])\n",
      "model.decoder.layers.15.fc2.weight torch.Size([1024, 4096])\n",
      "model.decoder.layers.15.fc2.bias torch.Size([1024])\n",
      "model.decoder.layers.15.final_layer_norm.weight torch.Size([1024])\n",
      "model.decoder.layers.15.final_layer_norm.bias torch.Size([1024])\n",
      "model.decoder.layers.16.self_attn.k_proj.weight torch.Size([1024, 1024])\n",
      "model.decoder.layers.16.self_attn.k_proj.bias torch.Size([1024])\n",
      "model.decoder.layers.16.self_attn.v_proj.weight torch.Size([1024, 1024])\n",
      "model.decoder.layers.16.self_attn.v_proj.bias torch.Size([1024])\n",
      "model.decoder.layers.16.self_attn.q_proj.weight torch.Size([1024, 1024])\n",
      "model.decoder.layers.16.self_attn.q_proj.bias torch.Size([1024])\n",
      "model.decoder.layers.16.self_attn.out_proj.weight torch.Size([1024, 1024])\n",
      "model.decoder.layers.16.self_attn.out_proj.bias torch.Size([1024])\n",
      "model.decoder.layers.16.self_attn_layer_norm.weight torch.Size([1024])\n",
      "model.decoder.layers.16.self_attn_layer_norm.bias torch.Size([1024])\n",
      "model.decoder.layers.16.fc1.weight torch.Size([4096, 1024])\n",
      "model.decoder.layers.16.fc1.bias torch.Size([4096])\n",
      "model.decoder.layers.16.fc2.weight torch.Size([1024, 4096])\n",
      "model.decoder.layers.16.fc2.bias torch.Size([1024])\n",
      "model.decoder.layers.16.final_layer_norm.weight torch.Size([1024])\n",
      "model.decoder.layers.16.final_layer_norm.bias torch.Size([1024])\n",
      "model.decoder.layers.17.self_attn.k_proj.weight torch.Size([1024, 1024])\n",
      "model.decoder.layers.17.self_attn.k_proj.bias torch.Size([1024])\n",
      "model.decoder.layers.17.self_attn.v_proj.weight torch.Size([1024, 1024])\n",
      "model.decoder.layers.17.self_attn.v_proj.bias torch.Size([1024])\n",
      "model.decoder.layers.17.self_attn.q_proj.weight torch.Size([1024, 1024])\n",
      "model.decoder.layers.17.self_attn.q_proj.bias torch.Size([1024])\n",
      "model.decoder.layers.17.self_attn.out_proj.weight torch.Size([1024, 1024])\n",
      "model.decoder.layers.17.self_attn.out_proj.bias torch.Size([1024])\n",
      "model.decoder.layers.17.self_attn_layer_norm.weight torch.Size([1024])\n",
      "model.decoder.layers.17.self_attn_layer_norm.bias torch.Size([1024])\n",
      "model.decoder.layers.17.fc1.weight torch.Size([4096, 1024])\n",
      "model.decoder.layers.17.fc1.bias torch.Size([4096])\n",
      "model.decoder.layers.17.fc2.weight torch.Size([1024, 4096])\n",
      "model.decoder.layers.17.fc2.bias torch.Size([1024])\n",
      "model.decoder.layers.17.final_layer_norm.weight torch.Size([1024])\n",
      "model.decoder.layers.17.final_layer_norm.bias torch.Size([1024])\n",
      "model.decoder.layers.18.self_attn.k_proj.weight torch.Size([1024, 1024])\n",
      "model.decoder.layers.18.self_attn.k_proj.bias torch.Size([1024])\n",
      "model.decoder.layers.18.self_attn.v_proj.weight torch.Size([1024, 1024])\n",
      "model.decoder.layers.18.self_attn.v_proj.bias torch.Size([1024])\n",
      "model.decoder.layers.18.self_attn.q_proj.weight torch.Size([1024, 1024])\n",
      "model.decoder.layers.18.self_attn.q_proj.bias torch.Size([1024])\n",
      "model.decoder.layers.18.self_attn.out_proj.weight torch.Size([1024, 1024])\n",
      "model.decoder.layers.18.self_attn.out_proj.bias torch.Size([1024])\n",
      "model.decoder.layers.18.self_attn_layer_norm.weight torch.Size([1024])\n",
      "model.decoder.layers.18.self_attn_layer_norm.bias torch.Size([1024])\n",
      "model.decoder.layers.18.fc1.weight torch.Size([4096, 1024])\n",
      "model.decoder.layers.18.fc1.bias torch.Size([4096])\n",
      "model.decoder.layers.18.fc2.weight torch.Size([1024, 4096])\n",
      "model.decoder.layers.18.fc2.bias torch.Size([1024])\n",
      "model.decoder.layers.18.final_layer_norm.weight torch.Size([1024])\n",
      "model.decoder.layers.18.final_layer_norm.bias torch.Size([1024])\n",
      "model.decoder.layers.19.self_attn.k_proj.weight torch.Size([1024, 1024])\n",
      "model.decoder.layers.19.self_attn.k_proj.bias torch.Size([1024])\n",
      "model.decoder.layers.19.self_attn.v_proj.weight torch.Size([1024, 1024])\n",
      "model.decoder.layers.19.self_attn.v_proj.bias torch.Size([1024])\n",
      "model.decoder.layers.19.self_attn.q_proj.weight torch.Size([1024, 1024])\n",
      "model.decoder.layers.19.self_attn.q_proj.bias torch.Size([1024])\n",
      "model.decoder.layers.19.self_attn.out_proj.weight torch.Size([1024, 1024])\n",
      "model.decoder.layers.19.self_attn.out_proj.bias torch.Size([1024])\n",
      "model.decoder.layers.19.self_attn_layer_norm.weight torch.Size([1024])\n",
      "model.decoder.layers.19.self_attn_layer_norm.bias torch.Size([1024])\n",
      "model.decoder.layers.19.fc1.weight torch.Size([4096, 1024])\n",
      "model.decoder.layers.19.fc1.bias torch.Size([4096])\n",
      "model.decoder.layers.19.fc2.weight torch.Size([1024, 4096])\n",
      "model.decoder.layers.19.fc2.bias torch.Size([1024])\n",
      "model.decoder.layers.19.final_layer_norm.weight torch.Size([1024])\n",
      "model.decoder.layers.19.final_layer_norm.bias torch.Size([1024])\n",
      "model.decoder.layers.20.self_attn.k_proj.weight torch.Size([1024, 1024])\n",
      "model.decoder.layers.20.self_attn.k_proj.bias torch.Size([1024])\n",
      "model.decoder.layers.20.self_attn.v_proj.weight torch.Size([1024, 1024])\n",
      "model.decoder.layers.20.self_attn.v_proj.bias torch.Size([1024])\n",
      "model.decoder.layers.20.self_attn.q_proj.weight torch.Size([1024, 1024])\n",
      "model.decoder.layers.20.self_attn.q_proj.bias torch.Size([1024])\n",
      "model.decoder.layers.20.self_attn.out_proj.weight torch.Size([1024, 1024])\n",
      "model.decoder.layers.20.self_attn.out_proj.bias torch.Size([1024])\n",
      "model.decoder.layers.20.self_attn_layer_norm.weight torch.Size([1024])\n",
      "model.decoder.layers.20.self_attn_layer_norm.bias torch.Size([1024])\n",
      "model.decoder.layers.20.fc1.weight torch.Size([4096, 1024])\n",
      "model.decoder.layers.20.fc1.bias torch.Size([4096])\n",
      "model.decoder.layers.20.fc2.weight torch.Size([1024, 4096])\n",
      "model.decoder.layers.20.fc2.bias torch.Size([1024])\n",
      "model.decoder.layers.20.final_layer_norm.weight torch.Size([1024])\n",
      "model.decoder.layers.20.final_layer_norm.bias torch.Size([1024])\n",
      "model.decoder.layers.21.self_attn.k_proj.weight torch.Size([1024, 1024])\n",
      "model.decoder.layers.21.self_attn.k_proj.bias torch.Size([1024])\n",
      "model.decoder.layers.21.self_attn.v_proj.weight torch.Size([1024, 1024])\n",
      "model.decoder.layers.21.self_attn.v_proj.bias torch.Size([1024])\n",
      "model.decoder.layers.21.self_attn.q_proj.weight torch.Size([1024, 1024])\n",
      "model.decoder.layers.21.self_attn.q_proj.bias torch.Size([1024])\n",
      "model.decoder.layers.21.self_attn.out_proj.weight torch.Size([1024, 1024])\n",
      "model.decoder.layers.21.self_attn.out_proj.bias torch.Size([1024])\n",
      "model.decoder.layers.21.self_attn_layer_norm.weight torch.Size([1024])\n",
      "model.decoder.layers.21.self_attn_layer_norm.bias torch.Size([1024])\n",
      "model.decoder.layers.21.fc1.weight torch.Size([4096, 1024])\n",
      "model.decoder.layers.21.fc1.bias torch.Size([4096])\n",
      "model.decoder.layers.21.fc2.weight torch.Size([1024, 4096])\n",
      "model.decoder.layers.21.fc2.bias torch.Size([1024])\n",
      "model.decoder.layers.21.final_layer_norm.weight torch.Size([1024])\n",
      "model.decoder.layers.21.final_layer_norm.bias torch.Size([1024])\n",
      "model.decoder.layers.22.self_attn.k_proj.weight torch.Size([1024, 1024])\n",
      "model.decoder.layers.22.self_attn.k_proj.bias torch.Size([1024])\n",
      "model.decoder.layers.22.self_attn.v_proj.weight torch.Size([1024, 1024])\n",
      "model.decoder.layers.22.self_attn.v_proj.bias torch.Size([1024])\n",
      "model.decoder.layers.22.self_attn.q_proj.weight torch.Size([1024, 1024])\n",
      "model.decoder.layers.22.self_attn.q_proj.bias torch.Size([1024])\n",
      "model.decoder.layers.22.self_attn.out_proj.weight torch.Size([1024, 1024])\n",
      "model.decoder.layers.22.self_attn.out_proj.bias torch.Size([1024])\n",
      "model.decoder.layers.22.self_attn_layer_norm.weight torch.Size([1024])\n",
      "model.decoder.layers.22.self_attn_layer_norm.bias torch.Size([1024])\n",
      "model.decoder.layers.22.fc1.weight torch.Size([4096, 1024])\n",
      "model.decoder.layers.22.fc1.bias torch.Size([4096])\n",
      "model.decoder.layers.22.fc2.weight torch.Size([1024, 4096])\n",
      "model.decoder.layers.22.fc2.bias torch.Size([1024])\n",
      "model.decoder.layers.22.final_layer_norm.weight torch.Size([1024])\n",
      "model.decoder.layers.22.final_layer_norm.bias torch.Size([1024])\n",
      "model.decoder.layers.23.self_attn.k_proj.weight torch.Size([1024, 1024])\n",
      "model.decoder.layers.23.self_attn.k_proj.bias torch.Size([1024])\n",
      "model.decoder.layers.23.self_attn.v_proj.weight torch.Size([1024, 1024])\n",
      "model.decoder.layers.23.self_attn.v_proj.bias torch.Size([1024])\n",
      "model.decoder.layers.23.self_attn.q_proj.weight torch.Size([1024, 1024])\n",
      "model.decoder.layers.23.self_attn.q_proj.bias torch.Size([1024])\n",
      "model.decoder.layers.23.self_attn.out_proj.weight torch.Size([1024, 1024])\n",
      "model.decoder.layers.23.self_attn.out_proj.bias torch.Size([1024])\n",
      "model.decoder.layers.23.self_attn_layer_norm.weight torch.Size([1024])\n",
      "model.decoder.layers.23.self_attn_layer_norm.bias torch.Size([1024])\n",
      "model.decoder.layers.23.fc1.weight torch.Size([4096, 1024])\n",
      "model.decoder.layers.23.fc1.bias torch.Size([4096])\n",
      "model.decoder.layers.23.fc2.weight torch.Size([1024, 4096])\n",
      "model.decoder.layers.23.fc2.bias torch.Size([1024])\n",
      "model.decoder.layers.23.final_layer_norm.weight torch.Size([1024])\n",
      "model.decoder.layers.23.final_layer_norm.bias torch.Size([1024])\n"
     ]
    }
   ],
   "source": [
    "for name, param in model.named_parameters():\n",
    "    print(name, param.shape)"
   ]
  },
  {
   "cell_type": "code",
   "execution_count": 20,
   "metadata": {},
   "outputs": [
    {
     "name": "stdout",
     "output_type": "stream",
     "text": [
      "['I', 'Ġlike', 'Ġto', 'Ġplay', 'Ġwith', 'Ġmy', 'Ġdog', '.']\n"
     ]
    }
   ],
   "source": [
    "chat = \"I like to play with my dog.\"\n",
    "tokens = tokenizer.tokenize(chat)\n",
    "print(tokens)"
   ]
  },
  {
   "cell_type": "code",
   "execution_count": 26,
   "metadata": {},
   "outputs": [
    {
     "name": "stdout",
     "output_type": "stream",
     "text": [
      "{'bos_token': '</s>', 'eos_token': '</s>', 'unk_token': '</s>', 'pad_token': '<pad>'}\n"
     ]
    },
    {
     "data": {
      "text/plain": [
       "2"
      ]
     },
     "execution_count": 26,
     "metadata": {},
     "output_type": "execute_result"
    }
   ],
   "source": [
    "print(tokenizer.special_tokens_map)\n",
    "tokenizer.bos_token_id"
   ]
  },
  {
   "cell_type": "code",
   "execution_count": 21,
   "metadata": {},
   "outputs": [
    {
     "data": {
      "text/plain": [
       "'</s>I like to play with my dog.'"
      ]
     },
     "execution_count": 21,
     "metadata": {},
     "output_type": "execute_result"
    }
   ],
   "source": [
    "tokenizer.decode(tokenizer.encode(chat))"
   ]
  },
  {
   "cell_type": "code",
   "execution_count": 5,
   "metadata": {},
   "outputs": [],
   "source": [
    "import torch\n",
    "a = torch.ones(2,3).fill_(-100)"
   ]
  }
 ],
 "metadata": {
  "kernelspec": {
   "display_name": "vsr_llm_avsr",
   "language": "python",
   "name": "python3"
  },
  "language_info": {
   "codemirror_mode": {
    "name": "ipython",
    "version": 3
   },
   "file_extension": ".py",
   "mimetype": "text/x-python",
   "name": "python",
   "nbconvert_exporter": "python",
   "pygments_lexer": "ipython3",
   "version": "3.10.12"
  }
 },
 "nbformat": 4,
 "nbformat_minor": 2
}
